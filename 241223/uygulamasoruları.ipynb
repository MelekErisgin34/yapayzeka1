{
 "cells": [
  {
   "cell_type": "code",
   "execution_count": 24,
   "id": "9d8cfa33-fe31-4eba-88c3-0538e86f9752",
   "metadata": {},
   "outputs": [],
   "source": [
    "import pandas as pd\n",
    "import numpy as np"
   ]
  },
  {
   "cell_type": "code",
   "execution_count": 25,
   "id": "69338403-7758-4117-8f48-5d8e99149c0c",
   "metadata": {},
   "outputs": [],
   "source": [
    "df = pd.read_csv(\"imdb_top_1000.csv\")# CSV dosyasını okuma"
   ]
  },
  {
   "cell_type": "code",
   "execution_count": 26,
   "id": "46a11e34-c14c-4f5e-9753-46b032527c77",
   "metadata": {},
   "outputs": [
    {
     "name": "stdout",
     "output_type": "stream",
     "text": [
      "<class 'pandas.core.frame.DataFrame'>\n",
      "RangeIndex: 1000 entries, 0 to 999\n",
      "Data columns (total 16 columns):\n",
      " #   Column         Non-Null Count  Dtype  \n",
      "---  ------         --------------  -----  \n",
      " 0   Poster_Link    1000 non-null   object \n",
      " 1   Series_Title   1000 non-null   object \n",
      " 2   Released_Year  1000 non-null   object \n",
      " 3   Certificate    899 non-null    object \n",
      " 4   Runtime        1000 non-null   object \n",
      " 5   Genre          1000 non-null   object \n",
      " 6   IMDB_Rating    1000 non-null   float64\n",
      " 7   Overview       1000 non-null   object \n",
      " 8   Meta_score     843 non-null    float64\n",
      " 9   Director       1000 non-null   object \n",
      " 10  Star1          1000 non-null   object \n",
      " 11  Star2          1000 non-null   object \n",
      " 12  Star3          1000 non-null   object \n",
      " 13  Star4          1000 non-null   object \n",
      " 14  No_of_Votes    1000 non-null   int64  \n",
      " 15  Gross          831 non-null    object \n",
      "dtypes: float64(2), int64(1), object(13)\n",
      "memory usage: 125.1+ KB\n"
     ]
    }
   ],
   "source": [
    "df.info()# Veri seti hakkında temel bilgiler"
   ]
  },
  {
   "cell_type": "code",
   "execution_count": 30,
   "id": "fc27f623-4bd2-4462-873f-b705cb2291a6",
   "metadata": {},
   "outputs": [
    {
     "data": {
      "text/plain": [
       "Poster_Link      0\n",
       "Series_Title     0\n",
       "Released_Year    0\n",
       "Certificate      0\n",
       "Runtime          0\n",
       "Genre            0\n",
       "IMDB_Rating      0\n",
       "Overview         0\n",
       "Meta_score       0\n",
       "Director         0\n",
       "Star1            0\n",
       "Star2            0\n",
       "Star3            0\n",
       "Star4            0\n",
       "No_of_Votes      0\n",
       "Gross            0\n",
       "dtype: int64"
      ]
     },
     "execution_count": 30,
     "metadata": {},
     "output_type": "execute_result"
    }
   ],
   "source": [
    "df.isnull().sum()"
   ]
  },
  {
   "cell_type": "code",
   "execution_count": 29,
   "id": "77325005-a64f-4394-ace7-94694f2a10ce",
   "metadata": {},
   "outputs": [],
   "source": [
    " df.dropna(subset=['Certificate','Meta_score','Gross'],inplace=True)"
   ]
  },
  {
   "cell_type": "code",
   "execution_count": 8,
   "id": "083a56d2-8ade-49da-9684-6ed9a7232143",
   "metadata": {},
   "outputs": [],
   "source": [
    "# Sütun başlıklarını Türkçeye çevirme\n",
    "df = df.rename(columns={\n",
    "    \"Series_Title\": \"Film_adı\",\n",
    "    \"Released_Year\": \"Yayın_Yılı\",\n",
    "    \"Genre\": \"Tür\",\n",
    "    \"IMDB_Rating\": \"IMDB_Puanı\",\n",
    "    \"Votes\": \"Oy_Sayısı\",\n",
    "    \"Gross\": \"Gişe\",\n",
    "    \"Director\": \"Yönetmen\",\n",
    "    \"Stars\": \"Oyuncular\",\n",
    "    \"No_of_Votes\": \"Oy_Sayısı\"\n",
    "})\n"
   ]
  },
  {
   "cell_type": "code",
   "execution_count": 33,
   "id": "715ba781-02b2-4075-9d81-ec11496ec39e",
   "metadata": {},
   "outputs": [],
   "source": [
    "df=df.drop(columns=['Poster_Link','Certificate','Runtime','Overview','Star1','Star2','Star3','Star4'],axis=1,errors=\"ignore\")\n"
   ]
  },
  {
   "cell_type": "code",
   "execution_count": null,
   "id": "721a282c-b874-4707-ab5d-3cb31710ac5c",
   "metadata": {},
   "outputs": [],
   "source": []
  }
 ],
 "metadata": {
  "kernelspec": {
   "display_name": "Python 3 (ipykernel)",
   "language": "python",
   "name": "python3"
  },
  "language_info": {
   "codemirror_mode": {
    "name": "ipython",
    "version": 3
   },
   "file_extension": ".py",
   "mimetype": "text/x-python",
   "name": "python",
   "nbconvert_exporter": "python",
   "pygments_lexer": "ipython3",
   "version": "3.11.7"
  }
 },
 "nbformat": 4,
 "nbformat_minor": 5
}
