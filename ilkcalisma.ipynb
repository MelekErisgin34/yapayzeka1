{
 "cells": [
  {
   "cell_type": "code",
   "execution_count": 4,
   "id": "d7a51d84-62bd-4ea4-a47b-214efb108dfa",
   "metadata": {},
   "outputs": [],
   "source": [
    "import numpy as np #numpy kütüphanesini np olarak ekler.\n",
    "dizi1=np.array([1, 2,3,4,5])#NumPy dizisi oluşturmak için\n",
    "dizi2=np.array([1,2,3]) #bir NumPy dizisini atama işlemi için\n",
    "dizi3=np.array([1,2,3,3.14],dtype=int)#NumPy dizilerini tanımlama sırasında dizideki tüm elemanları tek tipe dönüştürme islemi\n"
   ]
  },
  {
   "cell_type": "code",
   "execution_count": 5,
   "id": "4df4b01d-85ed-40ac-9afd-3be44e6b525f",
   "metadata": {},
   "outputs": [
    {
     "data": {
      "text/plain": [
       "array([1, 2, 3, 4, 5])"
      ]
     },
     "execution_count": 5,
     "metadata": {},
     "output_type": "execute_result"
    }
   ],
   "source": [
    "dizi1"
   ]
  },
  {
   "cell_type": "code",
   "execution_count": 6,
   "id": "0bb42b4d-2c0b-449f-908d-569f9dc630a8",
   "metadata": {},
   "outputs": [
    {
     "data": {
      "text/plain": [
       "array([1, 2, 3])"
      ]
     },
     "execution_count": 6,
     "metadata": {},
     "output_type": "execute_result"
    }
   ],
   "source": [
    "dizi2"
   ]
  },
  {
   "cell_type": "code",
   "execution_count": 7,
   "id": "4153b37f-861c-46ae-8956-72ce0bcb78d2",
   "metadata": {},
   "outputs": [
    {
     "data": {
      "text/plain": [
       "array([1, 2, 3, 3])"
      ]
     },
     "execution_count": 7,
     "metadata": {},
     "output_type": "execute_result"
    }
   ],
   "source": [
    "dizi3"
   ]
  },
  {
   "cell_type": "code",
   "execution_count": 8,
   "id": "e7cacba6-89a1-4065-8a1d-970ed409a071",
   "metadata": {},
   "outputs": [],
   "source": [
    "birboyut=np.array([1,2,3])# tek bir boyutlu\n"
   ]
  },
  {
   "cell_type": "code",
   "execution_count": 9,
   "id": "d7b469ba-6860-47bc-9172-7573968c3fbe",
   "metadata": {},
   "outputs": [
    {
     "data": {
      "text/plain": [
       "array([1, 2, 3])"
      ]
     },
     "execution_count": 9,
     "metadata": {},
     "output_type": "execute_result"
    }
   ],
   "source": [
    "birboyut"
   ]
  },
  {
   "cell_type": "code",
   "execution_count": 10,
   "id": "b89d6373-506c-4951-953d-80831b253026",
   "metadata": {},
   "outputs": [],
   "source": [
    "ikiboyut = np.array([[1,2,3], [4,5,6]]) #İki boyutlu \n"
   ]
  },
  {
   "cell_type": "code",
   "execution_count": 12,
   "id": "4819aa7b-2d1e-47af-938b-98e5307ffc1d",
   "metadata": {},
   "outputs": [
    {
     "data": {
      "text/plain": [
       "array([[1, 2, 3],\n",
       "       [4, 5, 6]])"
      ]
     },
     "execution_count": 12,
     "metadata": {},
     "output_type": "execute_result"
    }
   ],
   "source": [
    "ikiboyut "
   ]
  },
  {
   "cell_type": "code",
   "execution_count": 13,
   "id": "ca52aac1-c9f7-48e0-a556-c1ba92b8f4ad",
   "metadata": {},
   "outputs": [],
   "source": [
    "ucboyut= np.array([[[1,2,3], [4,5,6]], [[1,2,3], [4,5,6]]])#Uc boyutlu\n"
   ]
  },
  {
   "cell_type": "code",
   "execution_count": 14,
   "id": "ae93f32d-c80c-4738-a41c-f1d82816f7c7",
   "metadata": {},
   "outputs": [
    {
     "data": {
      "text/plain": [
       "array([[[1, 2, 3],\n",
       "        [4, 5, 6]],\n",
       "\n",
       "       [[1, 2, 3],\n",
       "        [4, 5, 6]]])"
      ]
     },
     "execution_count": 14,
     "metadata": {},
     "output_type": "execute_result"
    }
   ],
   "source": [
    "ucboyut "
   ]
  },
  {
   "cell_type": "code",
   "execution_count": null,
   "id": "4f8d2c68-d23c-4731-a0a5-30dfbf65d83f",
   "metadata": {},
   "outputs": [],
   "source": []
  }
 ],
 "metadata": {
  "kernelspec": {
   "display_name": "Python 3 (ipykernel)",
   "language": "python",
   "name": "python3"
  },
  "language_info": {
   "codemirror_mode": {
    "name": "ipython",
    "version": 3
   },
   "file_extension": ".py",
   "mimetype": "text/x-python",
   "name": "python",
   "nbconvert_exporter": "python",
   "pygments_lexer": "ipython3",
   "version": "3.11.7"
  }
 },
 "nbformat": 4,
 "nbformat_minor": 5
}
