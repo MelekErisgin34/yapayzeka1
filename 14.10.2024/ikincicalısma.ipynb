{
 "cells": [
  {
   "cell_type": "code",
   "execution_count": 5,
   "id": "2fe1ac8e-b0ba-48b1-9eb9-14587524b17b",
   "metadata": {},
   "outputs": [],
   "source": [
    "import numpy as np #nump kütüphanesi takma adı ile proje dahil ediyoruz "
   ]
  },
  {
   "cell_type": "code",
   "execution_count": 6,
   "id": "388402e9-2ca6-4f37-a5ff-eeccc202ab68",
   "metadata": {},
   "outputs": [
    {
     "data": {
      "text/plain": [
       "array([[5, 5, 5],\n",
       "       [5, 5, 5],\n",
       "       [5, 5, 5],\n",
       "       [5, 5, 5]])"
      ]
     },
     "execution_count": 6,
     "metadata": {},
     "output_type": "execute_result"
    }
   ],
   "source": [
    "dizi=np.full((4,3),5)# 4 satır 3 nsutundan olusan 5 tan olusan dizi\n",
    "dizi"
   ]
  },
  {
   "cell_type": "code",
   "execution_count": 7,
   "id": "64775ba1-1e3d-4fa0-a702-ac30b546e09f",
   "metadata": {},
   "outputs": [
    {
     "data": {
      "text/plain": [
       "array([1, 2, 3])"
      ]
     },
     "execution_count": 7,
     "metadata": {},
     "output_type": "execute_result"
    }
   ],
   "source": [
    "#yeni bir numpy dizisi olusturuyoruz\n",
    "np.array([1,2,3])"
   ]
  },
  {
   "cell_type": "code",
   "execution_count": 12,
   "id": "48464b8e-94fb-4f00-9a95-17f8c605b78a",
   "metadata": {},
   "outputs": [],
   "source": [
    "#olusturdugumuz diziyi bir degiskene aktarıyoruz \n",
    "dizi=np.array([1,2,3])\n",
    "\n"
   ]
  },
  {
   "cell_type": "code",
   "execution_count": 13,
   "id": "17aba247-52c8-4c6d-bea5-071e50ccd36e",
   "metadata": {},
   "outputs": [
    {
     "data": {
      "text/plain": [
       "array([1, 2, 3])"
      ]
     },
     "execution_count": 13,
     "metadata": {},
     "output_type": "execute_result"
    }
   ],
   "source": [
    "dizi"
   ]
  },
  {
   "cell_type": "code",
   "execution_count": 14,
   "id": "dfd1bb1c-e13f-456b-bf3c-54800d0cfcaa",
   "metadata": {},
   "outputs": [],
   "source": [
    "#olusturdugumuz diziyi bir degiskene aktarıyoruz \n",
    "dizi=np.array([\"elma\",\"erik\",\"igde\"])"
   ]
  },
  {
   "cell_type": "code",
   "execution_count": 15,
   "id": "ce68b2ac-6f9d-4062-866f-409e949fd5ff",
   "metadata": {},
   "outputs": [
    {
     "data": {
      "text/plain": [
       "array(['elma', 'erik', 'igde'], dtype='<U4')"
      ]
     },
     "execution_count": 15,
     "metadata": {},
     "output_type": "execute_result"
    }
   ],
   "source": [
    "dizi"
   ]
  },
  {
   "cell_type": "code",
   "execution_count": 16,
   "id": "0f456cf0-bff8-4764-8225-1b0841cb6a02",
   "metadata": {},
   "outputs": [
    {
     "data": {
      "text/plain": [
       "array([1, 2, 3])"
      ]
     },
     "execution_count": 16,
     "metadata": {},
     "output_type": "execute_result"
    }
   ],
   "source": [
    "dizi=np.array([1,2,3])\n",
    "dizi"
   ]
  },
  {
   "cell_type": "code",
   "execution_count": 17,
   "id": "f802a03e-ac6b-449a-b2ae-9b880aebb4f8",
   "metadata": {},
   "outputs": [],
   "source": [
    "dizi=np.array([1,2,3,3,14])\n"
   ]
  },
  {
   "cell_type": "code",
   "execution_count": 18,
   "id": "d5dfe61f-9d90-47c6-8d1b-dd00f4c5760a",
   "metadata": {},
   "outputs": [
    {
     "data": {
      "text/plain": [
       "array([ 1,  2,  3,  3, 14])"
      ]
     },
     "execution_count": 18,
     "metadata": {},
     "output_type": "execute_result"
    }
   ],
   "source": [
    "dizi"
   ]
  },
  {
   "cell_type": "code",
   "execution_count": null,
   "id": "23c44613-643c-4b67-b332-9981884a4e1e",
   "metadata": {},
   "outputs": [],
   "source": [
    "dizi.dtype #dizinin degisken türünü veriri.nump dizilerinde elemanların hepsi aynı türdendir "
   ]
  },
  {
   "cell_type": "code",
   "execution_count": null,
   "id": "f9f909ab-77b2-4f98-926d-3c5715929f52",
   "metadata": {},
   "outputs": [],
   "source": [
    "dtype('float64')"
   ]
  },
  {
   "cell_type": "code",
   "execution_count": 20,
   "id": "3ef5cf99-82e4-44de-a0a5-bff862558432",
   "metadata": {},
   "outputs": [],
   "source": [
    "dizi=np.array([1,2,3,14],dtype=int)"
   ]
  },
  {
   "cell_type": "code",
   "execution_count": 21,
   "id": "79cb5aab-8292-44b2-b027-f702063b8720",
   "metadata": {},
   "outputs": [
    {
     "data": {
      "text/plain": [
       "array([ 1,  2,  3, 14])"
      ]
     },
     "execution_count": 21,
     "metadata": {},
     "output_type": "execute_result"
    }
   ],
   "source": [
    "dizi"
   ]
  },
  {
   "cell_type": "markdown",
   "id": "57fea79a-3d30-49f2-812a-f905433a57d3",
   "metadata": {},
   "source": [
    "**numpy ile farklı boyutlarda dizi olusturma**"
   ]
  },
  {
   "cell_type": "code",
   "execution_count": 27,
   "id": "4dc7bee1-158d-4795-982f-4439171a73a8",
   "metadata": {},
   "outputs": [],
   "source": [
    "#bir boyutlu dizi olusturma \n",
    "birboyut=np.array([1,2,3,4])\n",
    "#iki boyutlu dizi olusturma \n",
    "ikiboyut=np.array([[1,2,3,4],[5,6,7,8,],[9,10,11,12]])"
   ]
  },
  {
   "cell_type": "code",
   "execution_count": 28,
   "id": "5c6a71b8-efb4-4770-8be0-94419d133593",
   "metadata": {},
   "outputs": [
    {
     "data": {
      "text/plain": [
       "array([1, 2, 3, 4])"
      ]
     },
     "execution_count": 28,
     "metadata": {},
     "output_type": "execute_result"
    }
   ],
   "source": [
    "birboyut"
   ]
  },
  {
   "cell_type": "code",
   "execution_count": 29,
   "id": "273595e0-793f-4ccb-affc-5f66a2750a00",
   "metadata": {},
   "outputs": [
    {
     "data": {
      "text/plain": [
       "array([[ 1,  2,  3,  4],\n",
       "       [ 5,  6,  7,  8],\n",
       "       [ 9, 10, 11, 12]])"
      ]
     },
     "execution_count": 29,
     "metadata": {},
     "output_type": "execute_result"
    }
   ],
   "source": [
    "ikiboyut"
   ]
  },
  {
   "cell_type": "markdown",
   "id": "9fadbff4-093f-41d7-b060-ae1202aab48a",
   "metadata": {},
   "source": [
    "**numpy yer tutacaklar**"
   ]
  },
  {
   "cell_type": "code",
   "execution_count": 30,
   "id": "22a9077e-60e5-49e4-bddb-0086fef5c848",
   "metadata": {},
   "outputs": [
    {
     "data": {
      "text/plain": [
       "array([0., 0., 0., 0., 0., 0., 0.])"
      ]
     },
     "execution_count": 30,
     "metadata": {},
     "output_type": "execute_result"
    }
   ],
   "source": [
    "np.zeros(7) #7 sıfırdan olusan tek boyutlu dizi olusturur "
   ]
  },
  {
   "cell_type": "code",
   "execution_count": 32,
   "id": "76df1da8-df2f-404c-99e6-0ae0d9c43c98",
   "metadata": {},
   "outputs": [
    {
     "data": {
      "text/plain": [
       "array([[0, 0, 0],\n",
       "       [0, 0, 0]])"
      ]
     },
     "execution_count": 32,
     "metadata": {},
     "output_type": "execute_result"
    }
   ],
   "source": [
    "np.zeros((2,3),dtype=int) # sıfırdan olusan 2 boyutlu int dizi olusturur "
   ]
  },
  {
   "cell_type": "code",
   "execution_count": 33,
   "id": "cdd29340-5e70-4244-96ef-b5b2b1b29a61",
   "metadata": {},
   "outputs": [
    {
     "data": {
      "text/plain": [
       "array([1., 1., 1.])"
      ]
     },
     "execution_count": 33,
     "metadata": {},
     "output_type": "execute_result"
    }
   ],
   "source": [
    "np.ones(3)"
   ]
  },
  {
   "cell_type": "code",
   "execution_count": 34,
   "id": "1044fcd2-e1c7-47d5-a0ff-4621f44ee331",
   "metadata": {},
   "outputs": [
    {
     "data": {
      "text/plain": [
       "array([[5, 5, 5],\n",
       "       [5, 5, 5],\n",
       "       [5, 5, 5],\n",
       "       [5, 5, 5]])"
      ]
     },
     "execution_count": 34,
     "metadata": {},
     "output_type": "execute_result"
    }
   ],
   "source": [
    "np.full((4,3),5)#5 sayısından olusan 2*3 lük dizi"
   ]
  },
  {
   "cell_type": "code",
   "execution_count": 35,
   "id": "884f3fb1-f370-4201-a5df-195ec2693913",
   "metadata": {},
   "outputs": [
    {
     "data": {
      "text/plain": [
       "array([ 2,  7, 12, 17])"
      ]
     },
     "execution_count": 35,
     "metadata": {},
     "output_type": "execute_result"
    }
   ],
   "source": [
    "np.arange(2,22,5)#baslangıc,bitis ve artıs degerine gore dızı olusturma "
   ]
  },
  {
   "cell_type": "code",
   "execution_count": 37,
   "id": "41ec44bc-bf2d-414b-a874-0e5ce04fe35f",
   "metadata": {},
   "outputs": [
    {
     "data": {
      "text/plain": [
       "array([ 2.        ,  3.33333333,  4.66666667,  6.        ,  7.33333333,\n",
       "        8.66666667, 10.        ])"
      ]
     },
     "execution_count": 37,
     "metadata": {},
     "output_type": "execute_result"
    }
   ],
   "source": [
    "np.linspace(2,10,num=7)#baslangıc ve bıtıs degeri aralıgında belirtilen miktarda esit aralık"
   ]
  },
  {
   "cell_type": "code",
   "execution_count": 38,
   "id": "c44d88dd-164d-43bf-8893-a79e303ccdfa",
   "metadata": {},
   "outputs": [
    {
     "data": {
      "text/plain": [
       "array([3, 0, 6, 4, 4])"
      ]
     },
     "execution_count": 38,
     "metadata": {},
     "output_type": "execute_result"
    }
   ],
   "source": [
    "np.random.randint(0,10,5)#0-10 aralıgında rastgele 5 sayıdan olusan bir boyutlu dizi"
   ]
  },
  {
   "cell_type": "code",
   "execution_count": 39,
   "id": "3908fd95-c762-456b-9aaf-b7b879157cf4",
   "metadata": {},
   "outputs": [
    {
     "data": {
      "text/plain": [
       "array([[7, 7],\n",
       "       [0, 2],\n",
       "       [7, 3],\n",
       "       [0, 2],\n",
       "       [6, 7]])"
      ]
     },
     "execution_count": 39,
     "metadata": {},
     "output_type": "execute_result"
    }
   ],
   "source": [
    "np.random.randint(0,10,(5,2))#0-10 aralıgında 5*2 rastgele sayıdan olusan 2 boyutlu dizi"
   ]
  },
  {
   "cell_type": "markdown",
   "id": "9a4c750b-d72a-4438-ac03-1f33cf834aef",
   "metadata": {},
   "source": [
    "**diziler ile ilgili işlemler**"
   ]
  },
  {
   "cell_type": "code",
   "execution_count": 41,
   "id": "fb57ef96-b5b8-48e0-90bc-bfbc90feffac",
   "metadata": {},
   "outputs": [
    {
     "data": {
      "text/plain": [
       "(3, 4)"
      ]
     },
     "execution_count": 41,
     "metadata": {},
     "output_type": "execute_result"
    }
   ],
   "source": [
    "dizi=np.array([[1,2,3,4],[5,6,7,8],[9,10,11,12]])#dizilerin eleman sayısını ogrenmek icin shape komutu kullanılır\n",
    "dizi.shape"
   ]
  },
  {
   "cell_type": "code",
   "execution_count": 42,
   "id": "9387bf4c-ec7b-4186-a820-fd7a716ab98c",
   "metadata": {},
   "outputs": [
    {
     "data": {
      "text/plain": [
       "2"
      ]
     },
     "execution_count": 42,
     "metadata": {},
     "output_type": "execute_result"
    }
   ],
   "source": [
    "#ndim dizi boyutunu ogrenmek icin kullanılır \n",
    "dizi.ndim"
   ]
  },
  {
   "cell_type": "code",
   "execution_count": 43,
   "id": "1673e615-8181-4f0b-98e6-e96cc4f5f8fc",
   "metadata": {},
   "outputs": [
    {
     "data": {
      "text/plain": [
       "12"
      ]
     },
     "execution_count": 43,
     "metadata": {},
     "output_type": "execute_result"
    }
   ],
   "source": [
    "#size dizideki toplam eleman sayısını gosterir \n",
    "dizi.size"
   ]
  },
  {
   "cell_type": "code",
   "execution_count": 44,
   "id": "0469f6f6-2824-4b5a-a304-4da70698cb68",
   "metadata": {},
   "outputs": [
    {
     "data": {
      "text/plain": [
       "4"
      ]
     },
     "execution_count": 44,
     "metadata": {},
     "output_type": "execute_result"
    }
   ],
   "source": [
    "dizi.itemsize #dizideki her bir eleman bayt cinsinden dgerini verir"
   ]
  },
  {
   "cell_type": "code",
   "execution_count": null,
   "id": "ca77f5c8-8d3b-488a-b02c-a7f26526188f",
   "metadata": {},
   "outputs": [],
   "source": []
  }
 ],
 "metadata": {
  "kernelspec": {
   "display_name": "Python 3 (ipykernel)",
   "language": "python",
   "name": "python3"
  },
  "language_info": {
   "codemirror_mode": {
    "name": "ipython",
    "version": 3
   },
   "file_extension": ".py",
   "mimetype": "text/x-python",
   "name": "python",
   "nbconvert_exporter": "python",
   "pygments_lexer": "ipython3",
   "version": "3.11.7"
  }
 },
 "nbformat": 4,
 "nbformat_minor": 5
}
